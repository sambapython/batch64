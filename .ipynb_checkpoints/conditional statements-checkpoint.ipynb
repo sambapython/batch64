{
 "cells": [
  {
   "cell_type": "code",
   "execution_count": 1,
   "metadata": {},
   "outputs": [
    {
     "name": "stdout",
     "output_type": "stream",
     "text": [
      "b is big\n"
     ]
    }
   ],
   "source": [
    "a=10\n",
    "b=20\n",
    "print(\"b is big\")"
   ]
  },
  {
   "cell_type": "code",
   "execution_count": 2,
   "metadata": {},
   "outputs": [
    {
     "name": "stdout",
     "output_type": "stream",
     "text": [
      "a is big\n"
     ]
    }
   ],
   "source": [
    "a=100\n",
    "b=20\n",
    "print(\"a is big\")"
   ]
  },
  {
   "cell_type": "code",
   "execution_count": 3,
   "metadata": {},
   "outputs": [
    {
     "name": "stdout",
     "output_type": "stream",
     "text": [
      "b is big\n",
      "a is big\n"
     ]
    }
   ],
   "source": [
    "a=100\n",
    "b=20\n",
    "print(\"b is big\")\n",
    "print(\"a is big\")"
   ]
  },
  {
   "cell_type": "code",
   "execution_count": 4,
   "metadata": {},
   "outputs": [
    {
     "name": "stdout",
     "output_type": "stream",
     "text": [
      "b is big\n",
      "a is big\n"
     ]
    }
   ],
   "source": [
    "a=100\n",
    "b=200\n",
    "print(\"b is big\")\n",
    "print(\"a is big\")"
   ]
  },
  {
   "cell_type": "code",
   "execution_count": 5,
   "metadata": {},
   "outputs": [
    {
     "name": "stdout",
     "output_type": "stream",
     "text": [
      "False\n",
      "b is big\n",
      "a is big\n"
     ]
    }
   ],
   "source": [
    "a=100\n",
    "b=200\n",
    "print(a>b)\n",
    "print(\"b is big\")\n",
    "print(\"a is big\")"
   ]
  },
  {
   "cell_type": "code",
   "execution_count": 6,
   "metadata": {},
   "outputs": [
    {
     "name": "stdout",
     "output_type": "stream",
     "text": [
      "True\n",
      "b is big\n",
      "a is big\n"
     ]
    }
   ],
   "source": [
    "a=1000\n",
    "b=200\n",
    "print(a>b)\n",
    "print(\"b is big\")\n",
    "print(\"a is big\")"
   ]
  },
  {
   "cell_type": "code",
   "execution_count": 7,
   "metadata": {},
   "outputs": [
    {
     "name": "stdout",
     "output_type": "stream",
     "text": [
      "welcome\n",
      "hello\n",
      "thanks\n"
     ]
    }
   ],
   "source": [
    "print(\"welcome\")\n",
    "if True:\n",
    "    print(\"hello\")\n",
    "else:\n",
    "    print(\"hi\")\n",
    "print(\"thanks\")"
   ]
  },
  {
   "cell_type": "code",
   "execution_count": 8,
   "metadata": {},
   "outputs": [
    {
     "name": "stdout",
     "output_type": "stream",
     "text": [
      "welcome\n",
      "hi\n",
      "thanks\n"
     ]
    }
   ],
   "source": [
    "print(\"welcome\")\n",
    "if False:\n",
    "    print(\"hello\")\n",
    "else:\n",
    "    print(\"hi\")\n",
    "print(\"thanks\")"
   ]
  },
  {
   "cell_type": "code",
   "execution_count": 9,
   "metadata": {},
   "outputs": [
    {
     "name": "stdout",
     "output_type": "stream",
     "text": [
      "welcome\n",
      "hello\n",
      "thanks\n"
     ]
    }
   ],
   "source": [
    "print(\"welcome\")\n",
    "if 1: # bool(1)\n",
    "    print(\"hello\")\n",
    "else:\n",
    "    print(\"hi\")\n",
    "print(\"thanks\")"
   ]
  },
  {
   "cell_type": "code",
   "execution_count": 10,
   "metadata": {},
   "outputs": [
    {
     "name": "stdout",
     "output_type": "stream",
     "text": [
      "welcome\n",
      "hi\n",
      "thanks\n"
     ]
    }
   ],
   "source": [
    "print(\"welcome\")\n",
    "if 0: # bool(0)\n",
    "    print(\"hello\")\n",
    "else:\n",
    "    print(\"hi\")\n",
    "print(\"thanks\")"
   ]
  },
  {
   "cell_type": "code",
   "execution_count": 11,
   "metadata": {},
   "outputs": [
    {
     "name": "stdout",
     "output_type": "stream",
     "text": [
      "welcome\n",
      "hello\n",
      "thanks\n"
     ]
    }
   ],
   "source": [
    "print(\"welcome\")\n",
    "if \"python\": # bool(\"python\")\n",
    "    print(\"hello\")\n",
    "else:\n",
    "    print(\"hi\")\n",
    "print(\"thanks\")"
   ]
  },
  {
   "cell_type": "code",
   "execution_count": 12,
   "metadata": {},
   "outputs": [
    {
     "name": "stdout",
     "output_type": "stream",
     "text": [
      "welcome\n",
      "hi\n",
      "thanks\n"
     ]
    }
   ],
   "source": [
    "print(\"welcome\")\n",
    "if \"\": # bool(\"\")\n",
    "    print(\"hello\")\n",
    "else:\n",
    "    print(\"hi\")\n",
    "print(\"thanks\")"
   ]
  },
  {
   "cell_type": "code",
   "execution_count": null,
   "metadata": {},
   "outputs": [],
   "source": [
    "a=100\n",
    "b=200\n",
    "print(a>b)\n",
    "print(\"b is big\")\n",
    "print(\"a is big\")"
   ]
  },
  {
   "cell_type": "code",
   "execution_count": 13,
   "metadata": {},
   "outputs": [
    {
     "name": "stdout",
     "output_type": "stream",
     "text": [
      "Enter number:12\n",
      "0.0\n"
     ]
    }
   ],
   "source": [
    "# take a number from the user and decide whether it is eve or odd..\n",
    "num = input(\"Enter number:\")\n",
    "num = float(num)\n",
    "print(num%2)\n"
   ]
  },
  {
   "cell_type": "code",
   "execution_count": 14,
   "metadata": {},
   "outputs": [
    {
     "name": "stdout",
     "output_type": "stream",
     "text": [
      "Enter number:13\n",
      "1.0\n"
     ]
    }
   ],
   "source": [
    "# take a number from the user and decide whether it is eve or odd..\n",
    "num = input(\"Enter number:\")\n",
    "num = float(num)\n",
    "print(num%2)\n"
   ]
  },
  {
   "cell_type": "code",
   "execution_count": 15,
   "metadata": {},
   "outputs": [
    {
     "data": {
      "text/plain": [
       "1"
      ]
     },
     "execution_count": 15,
     "metadata": {},
     "output_type": "execute_result"
    }
   ],
   "source": [
    "10%3"
   ]
  },
  {
   "cell_type": "code",
   "execution_count": 16,
   "metadata": {},
   "outputs": [
    {
     "data": {
      "text/plain": [
       "0"
      ]
     },
     "execution_count": 16,
     "metadata": {},
     "output_type": "execute_result"
    }
   ],
   "source": [
    "10%5"
   ]
  },
  {
   "cell_type": "code",
   "execution_count": 17,
   "metadata": {},
   "outputs": [
    {
     "data": {
      "text/plain": [
       "12.5"
      ]
     },
     "execution_count": 17,
     "metadata": {},
     "output_type": "execute_result"
    }
   ],
   "source": [
    "# take two numbers from the user and check whether the first number is divisible by second number or not..\n",
    "25/2"
   ]
  },
  {
   "cell_type": "code",
   "execution_count": 18,
   "metadata": {},
   "outputs": [
    {
     "data": {
      "text/plain": [
       "5.0"
      ]
     },
     "execution_count": 18,
     "metadata": {},
     "output_type": "execute_result"
    }
   ],
   "source": [
    "25/5"
   ]
  },
  {
   "cell_type": "code",
   "execution_count": 19,
   "metadata": {},
   "outputs": [
    {
     "data": {
      "text/plain": [
       "1"
      ]
     },
     "execution_count": 19,
     "metadata": {},
     "output_type": "execute_result"
    }
   ],
   "source": [
    "25%3"
   ]
  },
  {
   "cell_type": "code",
   "execution_count": 20,
   "metadata": {},
   "outputs": [
    {
     "data": {
      "text/plain": [
       "0"
      ]
     },
     "execution_count": 20,
     "metadata": {},
     "output_type": "execute_result"
    }
   ],
   "source": [
    "25%5"
   ]
  },
  {
   "cell_type": "code",
   "execution_count": 21,
   "metadata": {},
   "outputs": [
    {
     "name": "stdout",
     "output_type": "stream",
     "text": [
      "enter number1:12\n",
      "enter number2:6\n",
      "12.0 is divisible by 6.0\n",
      "thanks..\n"
     ]
    }
   ],
   "source": [
    "n1=float(input(\"enter number1:\"))\n",
    "n2=float(input(\"enter number2:\"))\n",
    "if n1%n2==0:\n",
    "    print(f\"{n1} is divisible by {n2}\")\n",
    "else:\n",
    "    print(f\"{n1} is not divisible by {n2}\")\n",
    "print(\"thanks..\")"
   ]
  },
  {
   "cell_type": "code",
   "execution_count": 22,
   "metadata": {},
   "outputs": [
    {
     "name": "stdout",
     "output_type": "stream",
     "text": [
      "enter number1:12\n",
      "enter number2:5\n",
      "12.0 is not divisible by 5.0\n",
      "thanks..\n"
     ]
    }
   ],
   "source": [
    "n1=float(input(\"enter number1:\"))\n",
    "n2=float(input(\"enter number2:\"))\n",
    "if n1%n2==0:\n",
    "    print(f\"{n1} is divisible by {n2}\")\n",
    "else:\n",
    "    print(f\"{n1} is not divisible by {n2}\")\n",
    "print(\"thanks..\")"
   ]
  },
  {
   "cell_type": "code",
   "execution_count": 24,
   "metadata": {},
   "outputs": [
    {
     "name": "stdout",
     "output_type": "stream",
     "text": [
      "enter number1:12\n",
      "enter number2:6\n",
      "12.0 is divisible by 6.0\n",
      "thanks..\n"
     ]
    }
   ],
   "source": [
    "n1=float(input(\"enter number1:\"))\n",
    "n2=float(input(\"enter number2:\"))\n",
    "if n1%n2:\n",
    "    print(f\"{n1} is not divisible by {n2}\")\n",
    "    \n",
    "else:\n",
    "    print(f\"{n1} is divisible by {n2}\")\n",
    "print(\"thanks..\")"
   ]
  },
  {
   "cell_type": "code",
   "execution_count": 25,
   "metadata": {},
   "outputs": [
    {
     "name": "stdout",
     "output_type": "stream",
     "text": [
      "enter number1:12\n",
      "enter number2:5\n",
      "12.0 is not divisible by 5.0\n",
      "thanks..\n"
     ]
    }
   ],
   "source": [
    "n1=float(input(\"enter number1:\"))\n",
    "n2=float(input(\"enter number2:\"))\n",
    "if n1%n2:\n",
    "    print(f\"{n1} is not divisible by {n2}\")\n",
    "    \n",
    "else:\n",
    "    print(f\"{n1} is divisible by {n2}\")\n",
    "print(\"thanks..\")"
   ]
  },
  {
   "cell_type": "code",
   "execution_count": 26,
   "metadata": {},
   "outputs": [
    {
     "name": "stdout",
     "output_type": "stream",
     "text": [
      "Enter number:23\n",
      "this is odd\n",
      "thanks\n"
     ]
    }
   ],
   "source": [
    "num = float(input(\"Enter number:\"))\n",
    "if num%2==0:\n",
    "    print(\"this is even\")\n",
    "else:\n",
    "    print(\"this is odd\")\n",
    "print(\"thanks\")"
   ]
  },
  {
   "cell_type": "code",
   "execution_count": 27,
   "metadata": {},
   "outputs": [
    {
     "name": "stdout",
     "output_type": "stream",
     "text": [
      "Enter number:35\n",
      "this is odd\n",
      "thanks\n"
     ]
    }
   ],
   "source": [
    "num = float(input(\"Enter number:\"))\n",
    "if num%2==0:\n",
    "    print(\"this is even\")\n",
    "else:\n",
    "    print(\"this is odd\")\n",
    "print(\"thanks\")"
   ]
  },
  {
   "cell_type": "code",
   "execution_count": 28,
   "metadata": {},
   "outputs": [
    {
     "name": "stdout",
     "output_type": "stream",
     "text": [
      "Enter number:34\n",
      "this is even\n",
      "thanks\n"
     ]
    }
   ],
   "source": [
    "num = float(input(\"Enter number:\"))\n",
    "if num%2==0:\n",
    "    print(\"this is even\")\n",
    "else:\n",
    "    print(\"this is odd\")\n",
    "print(\"thanks\")"
   ]
  },
  {
   "cell_type": "code",
   "execution_count": 29,
   "metadata": {},
   "outputs": [
    {
     "name": "stdout",
     "output_type": "stream",
     "text": [
      "Fruits Menu:\n",
      "\t1.apple\n",
      "\t2.oranges\n",
      "\t3.grapes\n",
      "Enter an option:2\n",
      "2\n"
     ]
    }
   ],
   "source": [
    "\"\"\"\n",
    "Fruits menu:\n",
    "    1. apple\n",
    "    2. oranges\n",
    "    3. grapes\n",
    "Enter an option:\n",
    "\"\"\"\n",
    "print(\"Fruits Menu:\\n\\t1.apple\\n\\t2.oranges\\n\\t3.grapes\")\n",
    "opt=input(\"Enter an option:\")\n",
    "print(opt)\n"
   ]
  },
  {
   "cell_type": "code",
   "execution_count": 30,
   "metadata": {},
   "outputs": [
    {
     "name": "stdout",
     "output_type": "stream",
     "text": [
      "Fruits Menu:\n",
      "\t1.apple\n",
      "\t2.oranges\n",
      "\t3.grapes\n",
      "Enter an option:1\n",
      "describe about app: cost:10 per fruit\n",
      "thanks\n"
     ]
    }
   ],
   "source": [
    "\"\"\"\n",
    "Fruits menu:\n",
    "    1. apple\n",
    "    2. oranges\n",
    "    3. grapes\n",
    "Enter an option:\n",
    "\"\"\"\n",
    "print(\"Fruits Menu:\\n\\t1.apple\\n\\t2.oranges\\n\\t3.grapes\")\n",
    "opt=input(\"Enter an option:\")\n",
    "if opt==\"1\":\n",
    "    print(\"describe about app: cost:10 per fruit\")\n",
    "if opt==\"2\":\n",
    "    print(\"describe about oranges: cost: 12 per fruit\")\n",
    "if opt==\"3\":\n",
    "    print(\"describe about grapes.. cost:65 per kg\")\n",
    "print(\"thanks\")"
   ]
  },
  {
   "cell_type": "code",
   "execution_count": 31,
   "metadata": {},
   "outputs": [
    {
     "name": "stdout",
     "output_type": "stream",
     "text": [
      "Fruits Menu:\n",
      "\t1.apple\n",
      "\t2.oranges\n",
      "\t3.grapes\n",
      "Enter an option:2\n",
      "describe about oranges: cost: 12 per fruit\n",
      "thanks\n"
     ]
    }
   ],
   "source": [
    "\"\"\"\n",
    "Fruits menu:\n",
    "    1. apple\n",
    "    2. oranges\n",
    "    3. grapes\n",
    "Enter an option:\n",
    "\"\"\"\n",
    "print(\"Fruits Menu:\\n\\t1.apple\\n\\t2.oranges\\n\\t3.grapes\")\n",
    "opt=input(\"Enter an option:\")\n",
    "if opt==\"1\":\n",
    "    print(\"describe about app: cost:10 per fruit\")\n",
    "if opt==\"2\":\n",
    "    print(\"describe about oranges: cost: 12 per fruit\")\n",
    "if opt==\"3\":\n",
    "    print(\"describe about grapes.. cost:65 per kg\")\n",
    "print(\"thanks\")"
   ]
  },
  {
   "cell_type": "code",
   "execution_count": 32,
   "metadata": {},
   "outputs": [
    {
     "name": "stdout",
     "output_type": "stream",
     "text": [
      "Fruits Menu:\n",
      "\t1.apple\n",
      "\t2.oranges\n",
      "\t3.grapes\n",
      "Enter an option:3\n",
      "describe about grapes.. cost:65 per kg\n",
      "thanks\n"
     ]
    }
   ],
   "source": [
    "\"\"\"\n",
    "Fruits menu:\n",
    "    1. apple\n",
    "    2. oranges\n",
    "    3. grapes\n",
    "Enter an option:\n",
    "\"\"\"\n",
    "print(\"Fruits Menu:\\n\\t1.apple\\n\\t2.oranges\\n\\t3.grapes\")\n",
    "opt=input(\"Enter an option:\")\n",
    "if opt==\"1\":\n",
    "    print(\"describe about app: cost:10 per fruit\")\n",
    "if opt==\"2\":\n",
    "    print(\"describe about oranges: cost: 12 per fruit\")\n",
    "if opt==\"3\":\n",
    "    print(\"describe about grapes.. cost:65 per kg\")\n",
    "print(\"thanks\")"
   ]
  },
  {
   "cell_type": "code",
   "execution_count": 33,
   "metadata": {},
   "outputs": [
    {
     "name": "stdout",
     "output_type": "stream",
     "text": [
      "Fruits Menu:\n",
      "\t1.apple\n",
      "\t2.oranges\n",
      "\t3.grapes\n",
      "Enter an option:4\n",
      "thanks\n"
     ]
    }
   ],
   "source": [
    "\"\"\"\n",
    "Fruits menu:\n",
    "    1. apple\n",
    "    2. oranges\n",
    "    3. grapes\n",
    "Enter an option:\n",
    "\"\"\"\n",
    "print(\"Fruits Menu:\\n\\t1.apple\\n\\t2.oranges\\n\\t3.grapes\")\n",
    "opt=input(\"Enter an option:\")\n",
    "if opt==\"1\":\n",
    "    print(\"describe about app: cost:10 per fruit\")\n",
    "if opt==\"2\":\n",
    "    print(\"describe about oranges: cost: 12 per fruit\")\n",
    "if opt==\"3\":\n",
    "    print(\"describe about grapes.. cost:65 per kg\")\n",
    "print(\"thanks\")"
   ]
  },
  {
   "cell_type": "code",
   "execution_count": 34,
   "metadata": {},
   "outputs": [
    {
     "name": "stdout",
     "output_type": "stream",
     "text": [
      "Fruits Menu:\n",
      "\t1.apple\n",
      "\t2.oranges\n",
      "\t3.grapes\n",
      "Enter an option:5\n",
      "in valid option\n",
      "thanks\n"
     ]
    }
   ],
   "source": [
    "\"\"\"\n",
    "Fruits menu:\n",
    "    1. apple\n",
    "    2. oranges\n",
    "    3. grapes\n",
    "Enter an option:\n",
    "\"\"\"\n",
    "print(\"Fruits Menu:\\n\\t1.apple\\n\\t2.oranges\\n\\t3.grapes\")\n",
    "opt=input(\"Enter an option:\")\n",
    "if opt==\"1\":\n",
    "    print(\"describe about app: cost:10 per fruit\")\n",
    "if opt==\"2\":\n",
    "    print(\"describe about oranges: cost: 12 per fruit\")\n",
    "if opt==\"3\":\n",
    "    print(\"describe about grapes.. cost:65 per kg\")\n",
    "else:\n",
    "    print(\"in valid option\")\n",
    "print(\"thanks\")"
   ]
  },
  {
   "cell_type": "code",
   "execution_count": 35,
   "metadata": {},
   "outputs": [
    {
     "name": "stdout",
     "output_type": "stream",
     "text": [
      "Fruits Menu:\n",
      "\t1.apple\n",
      "\t2.oranges\n",
      "\t3.grapes\n",
      "Enter an option:3\n",
      "describe about grapes.. cost:65 per kg\n",
      "thanks\n"
     ]
    }
   ],
   "source": [
    "\"\"\"\n",
    "Fruits menu:\n",
    "    1. apple\n",
    "    2. oranges\n",
    "    3. grapes\n",
    "Enter an option:\n",
    "\"\"\"\n",
    "print(\"Fruits Menu:\\n\\t1.apple\\n\\t2.oranges\\n\\t3.grapes\")\n",
    "opt=input(\"Enter an option:\")\n",
    "if opt==\"1\":\n",
    "    print(\"describe about app: cost:10 per fruit\")\n",
    "if opt==\"2\":\n",
    "    print(\"describe about oranges: cost: 12 per fruit\")\n",
    "if opt==\"3\":\n",
    "    print(\"describe about grapes.. cost:65 per kg\")\n",
    "else:\n",
    "    print(\"in valid option\")\n",
    "print(\"thanks\")"
   ]
  },
  {
   "cell_type": "code",
   "execution_count": 36,
   "metadata": {},
   "outputs": [
    {
     "name": "stdout",
     "output_type": "stream",
     "text": [
      "Fruits Menu:\n",
      "\t1.apple\n",
      "\t2.oranges\n",
      "\t3.grapes\n",
      "Enter an option:2\n",
      "describe about oranges: cost: 12 per fruit\n",
      "in valid option\n",
      "thanks\n"
     ]
    }
   ],
   "source": [
    "\"\"\"\n",
    "Fruits menu:\n",
    "    1. apple\n",
    "    2. oranges\n",
    "    3. grapes\n",
    "Enter an option:\n",
    "\"\"\"\n",
    "print(\"Fruits Menu:\\n\\t1.apple\\n\\t2.oranges\\n\\t3.grapes\")\n",
    "opt=input(\"Enter an option:\")\n",
    "if opt==\"1\":\n",
    "    print(\"describe about app: cost:10 per fruit\")\n",
    "if opt==\"2\":\n",
    "    print(\"describe about oranges: cost: 12 per fruit\")\n",
    "if opt==\"3\":\n",
    "    print(\"describe about grapes.. cost:65 per kg\")\n",
    "else:\n",
    "    print(\"in valid option\")\n",
    "print(\"thanks\")"
   ]
  },
  {
   "cell_type": "code",
   "execution_count": 37,
   "metadata": {},
   "outputs": [
    {
     "data": {
      "text/plain": [
       "True"
      ]
     },
     "execution_count": 37,
     "metadata": {},
     "output_type": "execute_result"
    }
   ],
   "source": [
    "\"1\" in [\"1\",\"2\",\"3\"]"
   ]
  },
  {
   "cell_type": "code",
   "execution_count": 38,
   "metadata": {},
   "outputs": [
    {
     "data": {
      "text/plain": [
       "False"
      ]
     },
     "execution_count": 38,
     "metadata": {},
     "output_type": "execute_result"
    }
   ],
   "source": [
    "\"10\" in [\"1\",\"2\",\"3\"]"
   ]
  },
  {
   "cell_type": "code",
   "execution_count": 39,
   "metadata": {},
   "outputs": [
    {
     "name": "stdout",
     "output_type": "stream",
     "text": [
      "Fruits Menu:\n",
      "\t1.apple\n",
      "\t2.oranges\n",
      "\t3.grapes\n",
      "Enter an option:2\n",
      "describe about oranges: cost: 12 per fruit\n",
      "thanks\n"
     ]
    }
   ],
   "source": [
    "\"\"\"\n",
    "Fruits menu:\n",
    "    1. apple\n",
    "    2. oranges\n",
    "    3. grapes\n",
    "Enter an option:\n",
    "\"\"\"\n",
    "print(\"Fruits Menu:\\n\\t1.apple\\n\\t2.oranges\\n\\t3.grapes\")\n",
    "opt=input(\"Enter an option:\")\n",
    "if opt in [\"1\",\"2\",\"3\"]:\n",
    "    if opt==\"1\":\n",
    "        print(\"describe about app: cost:10 per fruit\")\n",
    "    if opt==\"2\":\n",
    "        print(\"describe about oranges: cost: 12 per fruit\")\n",
    "    if opt==\"3\":\n",
    "        print(\"describe about grapes.. cost:65 per kg\")\n",
    "else:\n",
    "    print(\"in valid option\")\n",
    "print(\"thanks\")\n"
   ]
  },
  {
   "cell_type": "code",
   "execution_count": 40,
   "metadata": {},
   "outputs": [
    {
     "name": "stdout",
     "output_type": "stream",
     "text": [
      "Fruits Menu:\n",
      "\t1.apple\n",
      "\t2.oranges\n",
      "\t3.grapes\n",
      "Enter an option:20\n",
      "in valid option\n",
      "thanks\n"
     ]
    }
   ],
   "source": [
    "\"\"\"\n",
    "Fruits menu:\n",
    "    1. apple\n",
    "    2. oranges\n",
    "    3. grapes\n",
    "Enter an option:\n",
    "\"\"\"\n",
    "print(\"Fruits Menu:\\n\\t1.apple\\n\\t2.oranges\\n\\t3.grapes\")\n",
    "opt=input(\"Enter an option:\")\n",
    "if opt in [\"1\",\"2\",\"3\"]:\n",
    "    if opt==\"1\":\n",
    "        print(\"describe about app: cost:10 per fruit\")\n",
    "    if opt==\"2\":\n",
    "        print(\"describe about oranges: cost: 12 per fruit\")\n",
    "    if opt==\"3\":\n",
    "        print(\"describe about grapes.. cost:65 per kg\")\n",
    "else:\n",
    "    print(\"in valid option\")\n",
    "print(\"thanks\")\n"
   ]
  },
  {
   "cell_type": "code",
   "execution_count": 41,
   "metadata": {},
   "outputs": [
    {
     "name": "stdout",
     "output_type": "stream",
     "text": [
      "Fruits Menu:\n",
      "\t1.apple\n",
      "\t2.oranges\n",
      "\t3.grapes\n",
      "Enter an option:1\n",
      "describe about app: cost:10 per fruit\n",
      "describe about app: cost:10 per fruit\n",
      "thanks\n"
     ]
    }
   ],
   "source": [
    "\"\"\"\n",
    "Fruits menu:\n",
    "    1. apple\n",
    "    2. oranges\n",
    "    3. grapes\n",
    "Enter an option:\n",
    "\"\"\"\n",
    "print(\"Fruits Menu:\\n\\t1.apple\\n\\t2.oranges\\n\\t3.grapes\")\n",
    "opt=input(\"Enter an option:\")\n",
    "if opt in [\"1\",\"2\",\"3\"]:\n",
    "    if opt==\"1\":\n",
    "        print(\"describe about app: cost:10 per fruit\")\n",
    "    if opt==\"1\":\n",
    "        print(\"describe about app: cost:10 per fruit\")\n",
    "    if opt==\"2\":\n",
    "        print(\"describe about oranges: cost: 12 per fruit\")\n",
    "    if opt==\"3\":\n",
    "        print(\"describe about grapes.. cost:65 per kg\")\n",
    "else:\n",
    "    print(\"in valid option\")\n",
    "print(\"thanks\")\n"
   ]
  },
  {
   "cell_type": "code",
   "execution_count": 42,
   "metadata": {},
   "outputs": [
    {
     "name": "stdout",
     "output_type": "stream",
     "text": [
      "Fruits Menu:\n",
      "\t1.apple\n",
      "\t2.oranges\n",
      "\t3.grapes\n",
      "Enter an option:2\n",
      "describe about oranges: cost: 12 per fruit\n",
      "thanks\n"
     ]
    }
   ],
   "source": [
    "\"\"\"\n",
    "Fruits menu:\n",
    "    1. apple\n",
    "    2. oranges\n",
    "    3. grapes\n",
    "Enter an option:\n",
    "\"\"\"\n",
    "print(\"Fruits Menu:\\n\\t1.apple\\n\\t2.oranges\\n\\t3.grapes\")\n",
    "opt=input(\"Enter an option:\")\n",
    "if opt in [\"1\",\"2\",\"3\"]:\n",
    "    if opt==\"1\":\n",
    "        print(\"describe about app: cost:10 per fruit\")\n",
    "    if opt==\"1\":\n",
    "        print(\"describe about app: cost:10 per fruit\")\n",
    "    if opt==\"2\":\n",
    "        print(\"describe about oranges: cost: 12 per fruit\")\n",
    "    if opt==\"3\":\n",
    "        print(\"describe about grapes.. cost:65 per kg\")\n",
    "else:\n",
    "    print(\"in valid option\")\n",
    "print(\"thanks\")\n"
   ]
  },
  {
   "cell_type": "code",
   "execution_count": 43,
   "metadata": {},
   "outputs": [
    {
     "name": "stdout",
     "output_type": "stream",
     "text": [
      "Fruits Menu:\n",
      "\t1.apple\n",
      "\t2.oranges\n",
      "\t3.grapes\n",
      "Enter an option:1\n",
      "describe about app: cost:10 per fruit\n",
      "thanks\n"
     ]
    }
   ],
   "source": [
    "\"\"\"\n",
    "Fruits menu:\n",
    "    1. apple\n",
    "    2. oranges\n",
    "    3. grapes\n",
    "Enter an option:\n",
    "\"\"\"\n",
    "print(\"Fruits Menu:\\n\\t1.apple\\n\\t2.oranges\\n\\t3.grapes\")\n",
    "opt=input(\"Enter an option:\")\n",
    "if opt==\"1\":\n",
    "    print(\"describe about app: cost:10 per fruit\")\n",
    "elif opt==\"2\":\n",
    "    print(\"describe about oranges: cost: 12 per fruit\")\n",
    "elif opt==\"3\":\n",
    "    print(\"describe about grapes.. cost:65 per kg\")\n",
    "else:\n",
    "    print(\"in valid option\")\n",
    "print(\"thanks\")"
   ]
  },
  {
   "cell_type": "code",
   "execution_count": 44,
   "metadata": {},
   "outputs": [
    {
     "name": "stdout",
     "output_type": "stream",
     "text": [
      "Fruits Menu:\n",
      "\t1.apple\n",
      "\t2.oranges\n",
      "\t3.grapes\n",
      "Enter an option:2\n",
      "describe about oranges: cost: 12 per fruit\n",
      "thanks\n"
     ]
    }
   ],
   "source": [
    "\"\"\"\n",
    "Fruits menu:\n",
    "    1. apple\n",
    "    2. oranges\n",
    "    3. grapes\n",
    "Enter an option:\n",
    "\"\"\"\n",
    "print(\"Fruits Menu:\\n\\t1.apple\\n\\t2.oranges\\n\\t3.grapes\")\n",
    "opt=input(\"Enter an option:\")\n",
    "if opt==\"1\":\n",
    "    print(\"describe about app: cost:10 per fruit\")\n",
    "elif opt==\"2\":\n",
    "    print(\"describe about oranges: cost: 12 per fruit\")\n",
    "elif opt==\"3\":\n",
    "    print(\"describe about grapes.. cost:65 per kg\")\n",
    "else:\n",
    "    print(\"in valid option\")\n",
    "print(\"thanks\")"
   ]
  },
  {
   "cell_type": "code",
   "execution_count": 45,
   "metadata": {},
   "outputs": [
    {
     "name": "stdout",
     "output_type": "stream",
     "text": [
      "Fruits Menu:\n",
      "\t1.apple\n",
      "\t2.oranges\n",
      "\t3.grapes\n",
      "Enter an option:1\n",
      "describe about app: cost:10 per fruit\n",
      "thanks\n"
     ]
    }
   ],
   "source": [
    "\"\"\"\n",
    "Fruits menu:\n",
    "    1. apple\n",
    "    2. oranges\n",
    "    3. grapes\n",
    "Enter an option:\n",
    "\"\"\"\n",
    "print(\"Fruits Menu:\\n\\t1.apple\\n\\t2.oranges\\n\\t3.grapes\")\n",
    "opt=input(\"Enter an option:\")\n",
    "if opt==\"1\":\n",
    "    print(\"describe about app: cost:10 per fruit\")\n",
    "elif opt==\"1\":\n",
    "    print(\"describe about app: cost:10 per fruit\")\n",
    "elif opt==\"2\":\n",
    "    print(\"describe about oranges: cost: 12 per fruit\")\n",
    "elif opt==\"3\":\n",
    "    print(\"describe about grapes.. cost:65 per kg\")\n",
    "else:\n",
    "    print(\"in valid option\")\n",
    "print(\"thanks\")"
   ]
  },
  {
   "cell_type": "code",
   "execution_count": 46,
   "metadata": {},
   "outputs": [
    {
     "name": "stdout",
     "output_type": "stream",
     "text": [
      "Fruits Menu:\n",
      "\t1.apple\n",
      "\t2.oranges\n",
      "\t3.grapes\n",
      "Enter an option:5\n",
      "in valid option\n",
      "thanks\n"
     ]
    }
   ],
   "source": [
    "\"\"\"\n",
    "Fruits menu:\n",
    "    1. apple\n",
    "    2. oranges\n",
    "    3. grapes\n",
    "Enter an option:\n",
    "\"\"\"\n",
    "print(\"Fruits Menu:\\n\\t1.apple\\n\\t2.oranges\\n\\t3.grapes\")\n",
    "opt=input(\"Enter an option:\")\n",
    "if opt==\"1\":\n",
    "    print(\"describe about app: cost:10 per fruit\")\n",
    "elif opt==\"2\":\n",
    "    print(\"describe about oranges: cost: 12 per fruit\")\n",
    "elif opt==\"3\":\n",
    "    print(\"describe about grapes.. cost:65 per kg\")\n",
    "else:\n",
    "    print(\"in valid option\")\n",
    "print(\"thanks\")"
   ]
  },
  {
   "cell_type": "code",
   "execution_count": null,
   "metadata": {},
   "outputs": [],
   "source": []
  }
 ],
 "metadata": {
  "kernelspec": {
   "display_name": "Python 3",
   "language": "python",
   "name": "python3"
  },
  "language_info": {
   "codemirror_mode": {
    "name": "ipython",
    "version": 3
   },
   "file_extension": ".py",
   "mimetype": "text/x-python",
   "name": "python",
   "nbconvert_exporter": "python",
   "pygments_lexer": "ipython3",
   "version": "3.7.3"
  }
 },
 "nbformat": 4,
 "nbformat_minor": 2
}
