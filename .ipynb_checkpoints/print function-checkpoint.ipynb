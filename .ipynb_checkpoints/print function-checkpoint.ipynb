{
 "cells": [
  {
   "cell_type": "code",
   "execution_count": 1,
   "metadata": {},
   "outputs": [
    {
     "name": "stdout",
     "output_type": "stream",
     "text": [
      "a value:\n"
     ]
    }
   ],
   "source": [
    "a=1000\n",
    "b=2000\n",
    "# a value:1000, b value:2000\n",
    "print(\"a value:\")"
   ]
  },
  {
   "cell_type": "code",
   "execution_count": 2,
   "metadata": {},
   "outputs": [
    {
     "name": "stdout",
     "output_type": "stream",
     "text": [
      "a value:a\n"
     ]
    }
   ],
   "source": [
    "a=1000\n",
    "b=2000\n",
    "# a value:1000, b value:2000\n",
    "print(\"a value:a\")"
   ]
  },
  {
   "cell_type": "code",
   "execution_count": 3,
   "metadata": {},
   "outputs": [
    {
     "name": "stdout",
     "output_type": "stream",
     "text": [
      "a value: 1000\n"
     ]
    }
   ],
   "source": [
    "a=1000\n",
    "b=2000\n",
    "# a value:1000, b value:2000\n",
    "print(\"a value:\",a)"
   ]
  },
  {
   "cell_type": "code",
   "execution_count": 4,
   "metadata": {},
   "outputs": [
    {
     "name": "stdout",
     "output_type": "stream",
     "text": [
      "a value:;1000\n"
     ]
    }
   ],
   "source": [
    "a=1000\n",
    "b=2000\n",
    "# a value:1000, b value:2000\n",
    "print(\"a value:\",a,sep=\";\")"
   ]
  },
  {
   "cell_type": "code",
   "execution_count": 5,
   "metadata": {},
   "outputs": [
    {
     "name": "stdout",
     "output_type": "stream",
     "text": [
      "a value:1000\n"
     ]
    }
   ],
   "source": [
    "a=1000\n",
    "b=2000\n",
    "# a value:1000, b value:2000\n",
    "print(\"a value:\",a,sep=\"\")"
   ]
  },
  {
   "cell_type": "code",
   "execution_count": 6,
   "metadata": {},
   "outputs": [
    {
     "name": "stdout",
     "output_type": "stream",
     "text": [
      "a value:1000b value:\n"
     ]
    }
   ],
   "source": [
    "a=1000\n",
    "b=2000\n",
    "# a value:1000, b value:2000\n",
    "print(\"a value:\",a,\"b value:\",sep=\"\")"
   ]
  },
  {
   "cell_type": "code",
   "execution_count": 7,
   "metadata": {},
   "outputs": [
    {
     "name": "stdout",
     "output_type": "stream",
     "text": [
      "a value:1000, b value:\n"
     ]
    }
   ],
   "source": [
    "a=1000\n",
    "b=2000\n",
    "# a value:1000, b value:2000\n",
    "print(\"a value:\",a,\", b value:\",sep=\"\")"
   ]
  },
  {
   "cell_type": "code",
   "execution_count": 8,
   "metadata": {},
   "outputs": [
    {
     "name": "stdout",
     "output_type": "stream",
     "text": [
      "a value:1000, b value:2000\n"
     ]
    }
   ],
   "source": [
    "a=1000\n",
    "b=2000\n",
    "# a value:1000, b value:2000\n",
    "print(\"a value:\",a,\", b value:\",b,sep=\"\")"
   ]
  },
  {
   "cell_type": "code",
   "execution_count": 9,
   "metadata": {},
   "outputs": [
    {
     "name": "stdout",
     "output_type": "stream",
     "text": [
      "a value:1000, b value:2000\n",
      "a value:{a}, b value:{b}\n"
     ]
    }
   ],
   "source": [
    "a=1000\n",
    "b=2000\n",
    "# a value:1000, b value:2000\n",
    "print(\"a value:\",a,\", b value:\",b,sep=\"\")\n",
    "print(\"a value:{a}, b value:{b}\")"
   ]
  },
  {
   "cell_type": "code",
   "execution_count": 10,
   "metadata": {},
   "outputs": [
    {
     "name": "stdout",
     "output_type": "stream",
     "text": [
      "a value:1000, b value:2000\n",
      "a value:1000, b value:2000\n"
     ]
    }
   ],
   "source": [
    "a=1000\n",
    "b=2000\n",
    "# a value:1000, b value:2000\n",
    "print(\"a value:\",a,\", b value:\",b,sep=\"\")\n",
    "print(f\"a value:{a}, b value:{b}\")"
   ]
  },
  {
   "cell_type": "code",
   "execution_count": null,
   "metadata": {},
   "outputs": [],
   "source": [
    "a=1000\n",
    "b=2000\n",
    "# a value:1000, b value:2000\n",
    "print(\"a value:\",a,\", b value:\",b,sep=\"\")\n",
    "print(f\"a value:{a}, b value:{b}, c value:c\")"
   ]
  },
  {
   "cell_type": "code",
   "execution_count": 12,
   "metadata": {},
   "outputs": [
    {
     "name": "stdout",
     "output_type": "stream",
     "text": [
      "world hello\n"
     ]
    }
   ],
   "source": [
    "print(\"world hello\")"
   ]
  },
  {
   "cell_type": "code",
   "execution_count": 13,
   "metadata": {},
   "outputs": [
    {
     "name": "stdout",
     "output_type": "stream",
     "text": [
      "a value:1000, b value:2000\n",
      "a value:1000, b value:2000, c value:c\n"
     ]
    }
   ],
   "source": [
    "a=1000\n",
    "b=2000\n",
    "# a value:1000, b value:2000\n",
    "print(\"a value:\",a,\", b value:\",b,sep=\"\")\n",
    "print(f\"a value:{a}, b value:{b}, c value:c\")"
   ]
  },
  {
   "cell_type": "code",
   "execution_count": 14,
   "metadata": {},
   "outputs": [
    {
     "name": "stdout",
     "output_type": "stream",
     "text": [
      "a value:1000, b value:2000\n"
     ]
    },
    {
     "ename": "NameError",
     "evalue": "name 'c' is not defined",
     "output_type": "error",
     "traceback": [
      "\u001b[0;31m---------------------------------------------------------------------------\u001b[0m",
      "\u001b[0;31mNameError\u001b[0m                                 Traceback (most recent call last)",
      "\u001b[0;32m<ipython-input-14-0f590995229c>\u001b[0m in \u001b[0;36m<module>\u001b[0;34m\u001b[0m\n\u001b[1;32m      3\u001b[0m \u001b[0;31m# a value:1000, b value:2000\u001b[0m\u001b[0;34m\u001b[0m\u001b[0;34m\u001b[0m\u001b[0;34m\u001b[0m\u001b[0m\n\u001b[1;32m      4\u001b[0m \u001b[0mprint\u001b[0m\u001b[0;34m(\u001b[0m\u001b[0;34m\"a value:\"\u001b[0m\u001b[0;34m,\u001b[0m\u001b[0ma\u001b[0m\u001b[0;34m,\u001b[0m\u001b[0;34m\", b value:\"\u001b[0m\u001b[0;34m,\u001b[0m\u001b[0mb\u001b[0m\u001b[0;34m,\u001b[0m\u001b[0msep\u001b[0m\u001b[0;34m=\u001b[0m\u001b[0;34m\"\"\u001b[0m\u001b[0;34m)\u001b[0m\u001b[0;34m\u001b[0m\u001b[0;34m\u001b[0m\u001b[0m\n\u001b[0;32m----> 5\u001b[0;31m \u001b[0mprint\u001b[0m\u001b[0;34m(\u001b[0m\u001b[0;34mf\"a value:{a}, b value:{b}, c value:{c}\"\u001b[0m\u001b[0;34m)\u001b[0m\u001b[0;34m\u001b[0m\u001b[0;34m\u001b[0m\u001b[0m\n\u001b[0m",
      "\u001b[0;31mNameError\u001b[0m: name 'c' is not defined"
     ]
    }
   ],
   "source": [
    "a=1000\n",
    "b=2000\n",
    "# a value:1000, b value:2000\n",
    "print(\"a value:\",a,\", b value:\",b,sep=\"\")\n",
    "print(f\"a value:{a}, b value:{b}, c value:{c}\")"
   ]
  },
  {
   "cell_type": "code",
   "execution_count": 15,
   "metadata": {},
   "outputs": [
    {
     "name": "stdout",
     "output_type": "stream",
     "text": [
      "enter mrp:2000\n",
      "dicount percentage:20\n",
      "The product details Are:\n",
      "\tMRP:2000.0\n",
      "\tdiscount:400.0\n",
      "\tsales price:1600.0\n"
     ]
    }
   ],
   "source": [
    "mrp=input(\"enter mrp:\")\n",
    "dis_percentage=input(\"dicount percentage:\")\n",
    "mrp=float(mrp)\n",
    "dis_percentage = float(dis_percentage)\n",
    "disc_value=mrp*dis_percentage/100\n",
    "sales_price=mrp-disc_value\n",
    "print(f\"The product details Are:\\n\\tMRP:{mrp}\\n\\tdiscount:{disc_value}\\n\\tsales price:{sales_price}\")\n",
    "# The product details Are:\n",
    "#     MRP:\n",
    "#     discount:\n",
    "#   sales price:\n"
   ]
  },
  {
   "cell_type": "code",
   "execution_count": 16,
   "metadata": {},
   "outputs": [
    {
     "name": "stdout",
     "output_type": "stream",
     "text": [
      "Enter costprice:2000\n",
      "Enter sale price:2500\n",
      "500.0\n"
     ]
    }
   ],
   "source": [
    "# take a costprice\n",
    "# sales price\n",
    "#print profit\n",
    "cp = float(input(\"Enter costprice:\"))\n",
    "sp = float(input(\"Enter sale price:\"))\n",
    "print(sp-cp)"
   ]
  },
  {
   "cell_type": "code",
   "execution_count": 17,
   "metadata": {},
   "outputs": [],
   "source": [
    "#interest percentage caluculator."
   ]
  },
  {
   "cell_type": "code",
   "execution_count": 18,
   "metadata": {},
   "outputs": [
    {
     "name": "stdout",
     "output_type": "stream",
     "text": [
      "Name:Jayaram, Age:2.344567, Height:3.546457, Weight:13.467678\n"
     ]
    }
   ],
   "source": [
    "name=\"Jayaram\"\n",
    "age=2.344567\n",
    "height=3.546457\n",
    "weight=13.467678\n",
    "print(f\"Name:{name}, Age:{age}, Height:{height}, Weight:{weight}\")"
   ]
  },
  {
   "cell_type": "code",
   "execution_count": 21,
   "metadata": {},
   "outputs": [
    {
     "name": "stdout",
     "output_type": "stream",
     "text": [
      "Name:Jayaram, Age:2.344567, Height:3.546450, Weight:13.467670\n"
     ]
    }
   ],
   "source": [
    "name=\"Jayaram\"\n",
    "age=2.344567\n",
    "height=3.54645\n",
    "weight=13.46767\n",
    "print(f\"Name:{name}, Age:{age:f}, Height:{height:f}, Weight:{weight:f}\")"
   ]
  },
  {
   "cell_type": "code",
   "execution_count": 22,
   "metadata": {},
   "outputs": [
    {
     "name": "stdout",
     "output_type": "stream",
     "text": [
      "Name:Jayaram, Age:2.34, Height:3.55, Weight:13.47\n"
     ]
    }
   ],
   "source": [
    "name=\"Jayaram\"\n",
    "age=2.344567\n",
    "height=3.54645\n",
    "weight=13.46767\n",
    "print(f\"Name:{name}, Age:{age:.2f}, Height:{height:.2f}, Weight:{weight:.2f}\")"
   ]
  },
  {
   "cell_type": "code",
   "execution_count": 23,
   "metadata": {},
   "outputs": [
    {
     "ename": "ValueError",
     "evalue": "Unknown format code 'd' for object of type 'float'",
     "output_type": "error",
     "traceback": [
      "\u001b[0;31m---------------------------------------------------------------------------\u001b[0m",
      "\u001b[0;31mValueError\u001b[0m                                Traceback (most recent call last)",
      "\u001b[0;32m<ipython-input-23-dfaf527eaf8a>\u001b[0m in \u001b[0;36m<module>\u001b[0;34m\u001b[0m\n\u001b[1;32m      3\u001b[0m \u001b[0mheight\u001b[0m\u001b[0;34m=\u001b[0m\u001b[0;36m3.54645\u001b[0m\u001b[0;34m\u001b[0m\u001b[0;34m\u001b[0m\u001b[0m\n\u001b[1;32m      4\u001b[0m \u001b[0mweight\u001b[0m\u001b[0;34m=\u001b[0m\u001b[0;36m13.46767\u001b[0m\u001b[0;34m\u001b[0m\u001b[0;34m\u001b[0m\u001b[0m\n\u001b[0;32m----> 5\u001b[0;31m \u001b[0mprint\u001b[0m\u001b[0;34m(\u001b[0m\u001b[0;34mf\"Name:{name}, Age:{age:d}, Height:{height:.2f}, Weight:{weight:.2f}\"\u001b[0m\u001b[0;34m)\u001b[0m\u001b[0;34m\u001b[0m\u001b[0;34m\u001b[0m\u001b[0m\n\u001b[0m",
      "\u001b[0;31mValueError\u001b[0m: Unknown format code 'd' for object of type 'float'"
     ]
    }
   ],
   "source": [
    "name=\"Jayaram\"\n",
    "age=2.344567\n",
    "height=3.54645\n",
    "weight=13.46767\n",
    "print(f\"Name:{name}, Age:{age:d}, Height:{height:.2f}, Weight:{weight:.2f}\")"
   ]
  },
  {
   "cell_type": "code",
   "execution_count": 24,
   "metadata": {},
   "outputs": [
    {
     "name": "stdout",
     "output_type": "stream",
     "text": [
      "Name:Jayaram, Age:2, Height:3.55, Weight:13.47\n"
     ]
    }
   ],
   "source": [
    "name=\"Jayaram\"\n",
    "age=2.344567\n",
    "height=3.54645\n",
    "weight=13.46767\n",
    "print(f\"Name:{name}, Age:{int(age)}, Height:{height:.2f}, Weight:{weight:.2f}\")"
   ]
  },
  {
   "cell_type": "code",
   "execution_count": 25,
   "metadata": {},
   "outputs": [
    {
     "name": "stdout",
     "output_type": "stream",
     "text": [
      "Name:Jayaram, Age:2, Height:3.55, Weight:13.47\n",
      "Name:%s, Age:%s, Height:%s, Weight:%s\n"
     ]
    }
   ],
   "source": [
    "name=\"Jayaram\"\n",
    "age=2.344567\n",
    "height=3.54645\n",
    "weight=13.46767\n",
    "print(f\"Name:{name}, Age:{int(age)}, Height:{height:.2f}, Weight:{weight:.2f}\") # template string\n",
    "print(\"Name:%s, Age:%s, Height:%s, Weight:%s\")\n"
   ]
  },
  {
   "cell_type": "code",
   "execution_count": 26,
   "metadata": {},
   "outputs": [
    {
     "name": "stdout",
     "output_type": "stream",
     "text": [
      "Name:Jayaram, Age:2, Height:3.55, Weight:13.47\n",
      "Name:%s, Age:%s, Height:%s, Weight:%s ('Jayaram', 2.344567, 3.54645, 13.46767)\n"
     ]
    }
   ],
   "source": [
    "name=\"Jayaram\"\n",
    "age=2.344567\n",
    "height=3.54645\n",
    "weight=13.46767\n",
    "print(f\"Name:{name}, Age:{int(age)}, Height:{height:.2f}, Weight:{weight:.2f}\") # template string\n",
    "print(\"Name:%s, Age:%s, Height:%s, Weight:%s\",(name,age,height,weight))\n"
   ]
  },
  {
   "cell_type": "code",
   "execution_count": 27,
   "metadata": {},
   "outputs": [
    {
     "name": "stdout",
     "output_type": "stream",
     "text": [
      "Name:Jayaram, Age:2, Height:3.55, Weight:13.47\n",
      "Name:Jayaram, Age:2.344567, Height:3.54645, Weight:13.46767\n"
     ]
    }
   ],
   "source": [
    "name=\"Jayaram\"\n",
    "age=2.344567\n",
    "height=3.54645\n",
    "weight=13.46767\n",
    "print(f\"Name:{name}, Age:{int(age)}, Height:{height:.2f}, Weight:{weight:.2f}\") # template string\n",
    "print(\"Name:%s, Age:%s, Height:%s, Weight:%s\"%(name,age,height,weight))\n"
   ]
  },
  {
   "cell_type": "code",
   "execution_count": 28,
   "metadata": {},
   "outputs": [
    {
     "name": "stdout",
     "output_type": "stream",
     "text": [
      "Name:Jayaram, Age:2, Height:3.55, Weight:13.47\n",
      "Name:Jayaram, Age:2, Height:3.55, Weight:13.47\n"
     ]
    }
   ],
   "source": [
    "name=\"Jayaram\"\n",
    "age=2.344567\n",
    "height=3.54645\n",
    "weight=13.46767\n",
    "print(f\"Name:{name}, Age:{int(age)}, Height:{height:.2f}, Weight:{weight:.2f}\") # template string\n",
    "print(\"Name:%s, Age:%d, Height:%.2f, Weight:%.2f\"%(name,age,height,weight))\n"
   ]
  },
  {
   "cell_type": "code",
   "execution_count": 29,
   "metadata": {},
   "outputs": [
    {
     "name": "stdout",
     "output_type": "stream",
     "text": [
      "55640\n"
     ]
    }
   ],
   "source": [
    "print(\"%o\"%23456)"
   ]
  },
  {
   "cell_type": "code",
   "execution_count": 30,
   "metadata": {},
   "outputs": [
    {
     "name": "stdout",
     "output_type": "stream",
     "text": [
      "5ba0\n"
     ]
    }
   ],
   "source": [
    "print(\"%x\"%23456)"
   ]
  },
  {
   "cell_type": "code",
   "execution_count": 31,
   "metadata": {},
   "outputs": [
    {
     "name": "stdout",
     "output_type": "stream",
     "text": [
      "240c588c7\n"
     ]
    }
   ],
   "source": [
    "cell=9676622023\n",
    "print(\"%x\"%cell)"
   ]
  },
  {
   "cell_type": "code",
   "execution_count": 32,
   "metadata": {},
   "outputs": [
    {
     "name": "stdout",
     "output_type": "stream",
     "text": [
      "240c588c7\n",
      "0x240c588c7\n"
     ]
    }
   ],
   "source": [
    "cell=9676622023\n",
    "print(\"%x\"%cell)\n",
    "print(hex(cell))"
   ]
  },
  {
   "cell_type": "code",
   "execution_count": 33,
   "metadata": {},
   "outputs": [
    {
     "name": "stdout",
     "output_type": "stream",
     "text": [
      "10 2 8 16\n"
     ]
    }
   ],
   "source": [
    "a=10\n",
    "b=0b10\n",
    "c=0o10\n",
    "d=0x10\n",
    "print(a,b,c,d)"
   ]
  },
  {
   "cell_type": "code",
   "execution_count": 34,
   "metadata": {},
   "outputs": [
    {
     "name": "stdout",
     "output_type": "stream",
     "text": [
      "43981\n"
     ]
    }
   ],
   "source": [
    "a=0xabcd\n",
    "print(a)"
   ]
  },
  {
   "cell_type": "code",
   "execution_count": 35,
   "metadata": {},
   "outputs": [
    {
     "name": "stdout",
     "output_type": "stream",
     "text": [
      "9162\n"
     ]
    }
   ],
   "source": [
    "a=0x23ca\n",
    "print(a)"
   ]
  },
  {
   "cell_type": "code",
   "execution_count": 36,
   "metadata": {},
   "outputs": [
    {
     "name": "stdout",
     "output_type": "stream",
     "text": [
      "9162\n",
      "9162\n"
     ]
    }
   ],
   "source": [
    "a=0x23ca\n",
    "print(a)\n",
    "print(10*16**0+12*16**1+3*16**2+2*16**3)"
   ]
  },
  {
   "cell_type": "code",
   "execution_count": 37,
   "metadata": {},
   "outputs": [
    {
     "name": "stdout",
     "output_type": "stream",
     "text": [
      "9162\n"
     ]
    }
   ],
   "source": [
    "a=0x23ca\n",
    "print(a)\n"
   ]
  },
  {
   "cell_type": "code",
   "execution_count": 38,
   "metadata": {},
   "outputs": [
    {
     "ename": "ValueError",
     "evalue": "invalid literal for int() with base 10: '240c588c7'",
     "output_type": "error",
     "traceback": [
      "\u001b[0;31m---------------------------------------------------------------------------\u001b[0m",
      "\u001b[0;31mValueError\u001b[0m                                Traceback (most recent call last)",
      "\u001b[0;32m<ipython-input-38-31dc47a72a31>\u001b[0m in \u001b[0;36m<module>\u001b[0;34m\u001b[0m\n\u001b[1;32m      1\u001b[0m \u001b[0ma\u001b[0m\u001b[0;34m=\u001b[0m\u001b[0;34m\"240c588c7\"\u001b[0m\u001b[0;34m\u001b[0m\u001b[0;34m\u001b[0m\u001b[0m\n\u001b[0;32m----> 2\u001b[0;31m \u001b[0mprint\u001b[0m\u001b[0;34m(\u001b[0m\u001b[0mint\u001b[0m\u001b[0;34m(\u001b[0m\u001b[0ma\u001b[0m\u001b[0;34m)\u001b[0m\u001b[0;34m)\u001b[0m\u001b[0;34m\u001b[0m\u001b[0;34m\u001b[0m\u001b[0m\n\u001b[0m",
      "\u001b[0;31mValueError\u001b[0m: invalid literal for int() with base 10: '240c588c7'"
     ]
    }
   ],
   "source": [
    "a=\"240c588c7\"\n",
    "print(int(a))"
   ]
  },
  {
   "cell_type": "code",
   "execution_count": 39,
   "metadata": {},
   "outputs": [
    {
     "name": "stdout",
     "output_type": "stream",
     "text": [
      "9676622023\n"
     ]
    }
   ],
   "source": [
    "a=\"240c588c7\"\n",
    "print(int(a,16))"
   ]
  },
  {
   "cell_type": "code",
   "execution_count": 40,
   "metadata": {},
   "outputs": [
    {
     "name": "stdout",
     "output_type": "stream",
     "text": [
      "23\n"
     ]
    }
   ],
   "source": [
    "c=\"23\"\n",
    "print(int(c))"
   ]
  },
  {
   "cell_type": "code",
   "execution_count": 41,
   "metadata": {},
   "outputs": [
    {
     "ename": "ValueError",
     "evalue": "invalid literal for int() with base 2: '23'",
     "output_type": "error",
     "traceback": [
      "\u001b[0;31m---------------------------------------------------------------------------\u001b[0m",
      "\u001b[0;31mValueError\u001b[0m                                Traceback (most recent call last)",
      "\u001b[0;32m<ipython-input-41-43085c72082e>\u001b[0m in \u001b[0;36m<module>\u001b[0;34m\u001b[0m\n\u001b[1;32m      1\u001b[0m \u001b[0mc\u001b[0m\u001b[0;34m=\u001b[0m\u001b[0;34m\"23\"\u001b[0m\u001b[0;34m\u001b[0m\u001b[0;34m\u001b[0m\u001b[0m\n\u001b[0;32m----> 2\u001b[0;31m \u001b[0mprint\u001b[0m\u001b[0;34m(\u001b[0m\u001b[0mint\u001b[0m\u001b[0;34m(\u001b[0m\u001b[0mc\u001b[0m\u001b[0;34m,\u001b[0m\u001b[0;36m2\u001b[0m\u001b[0;34m)\u001b[0m\u001b[0;34m)\u001b[0m\u001b[0;34m\u001b[0m\u001b[0;34m\u001b[0m\u001b[0m\n\u001b[0m",
      "\u001b[0;31mValueError\u001b[0m: invalid literal for int() with base 2: '23'"
     ]
    }
   ],
   "source": [
    "c=\"23\"\n",
    "print(int(c,2))"
   ]
  },
  {
   "cell_type": "code",
   "execution_count": 42,
   "metadata": {},
   "outputs": [
    {
     "name": "stdout",
     "output_type": "stream",
     "text": [
      "341\n"
     ]
    }
   ],
   "source": [
    "c=\"101010101\"\n",
    "print(int(c,2))"
   ]
  },
  {
   "cell_type": "code",
   "execution_count": 43,
   "metadata": {},
   "outputs": [
    {
     "ename": "SyntaxError",
     "evalue": "invalid token (<ipython-input-43-0577d58e50f9>, line 1)",
     "output_type": "error",
     "traceback": [
      "\u001b[0;36m  File \u001b[0;32m\"<ipython-input-43-0577d58e50f9>\"\u001b[0;36m, line \u001b[0;32m1\u001b[0m\n\u001b[0;31m    a=0b234\u001b[0m\n\u001b[0m       ^\u001b[0m\n\u001b[0;31mSyntaxError\u001b[0m\u001b[0;31m:\u001b[0m invalid token\n"
     ]
    }
   ],
   "source": [
    "a=0b234\n",
    "print(a)"
   ]
  },
  {
   "cell_type": "code",
   "execution_count": 44,
   "metadata": {},
   "outputs": [
    {
     "name": "stdout",
     "output_type": "stream",
     "text": [
      "85\n"
     ]
    }
   ],
   "source": [
    "a=0b1010101\n",
    "print(a)"
   ]
  },
  {
   "cell_type": "code",
   "execution_count": 45,
   "metadata": {},
   "outputs": [
    {
     "ename": "SyntaxError",
     "evalue": "invalid syntax (<ipython-input-45-5d52e534c376>, line 1)",
     "output_type": "error",
     "traceback": [
      "\u001b[0;36m  File \u001b[0;32m\"<ipython-input-45-5d52e534c376>\"\u001b[0;36m, line \u001b[0;32m1\u001b[0m\n\u001b[0;31m    a=0o456789\u001b[0m\n\u001b[0m             ^\u001b[0m\n\u001b[0;31mSyntaxError\u001b[0m\u001b[0;31m:\u001b[0m invalid syntax\n"
     ]
    }
   ],
   "source": [
    "a=0o456789\n",
    "print(a)"
   ]
  },
  {
   "cell_type": "code",
   "execution_count": 46,
   "metadata": {},
   "outputs": [
    {
     "name": "stdout",
     "output_type": "stream",
     "text": [
      "2423\n"
     ]
    }
   ],
   "source": [
    "a=0o4567\n",
    "print(a)"
   ]
  },
  {
   "cell_type": "code",
   "execution_count": null,
   "metadata": {},
   "outputs": [],
   "source": []
  }
 ],
 "metadata": {
  "kernelspec": {
   "display_name": "Python 3",
   "language": "python",
   "name": "python3"
  },
  "language_info": {
   "codemirror_mode": {
    "name": "ipython",
    "version": 3
   },
   "file_extension": ".py",
   "mimetype": "text/x-python",
   "name": "python",
   "nbconvert_exporter": "python",
   "pygments_lexer": "ipython3",
   "version": "3.7.3"
  }
 },
 "nbformat": 4,
 "nbformat_minor": 2
}
