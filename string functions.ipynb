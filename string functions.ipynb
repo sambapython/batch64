{
 "cells": [
  {
   "cell_type": "code",
   "execution_count": 2,
   "metadata": {},
   "outputs": [
    {
     "data": {
      "text/plain": [
       "'Python program'"
      ]
     },
     "execution_count": 2,
     "metadata": {},
     "output_type": "execute_result"
    }
   ],
   "source": [
    "s=\"python program\"\n",
    "s.capitalize()"
   ]
  },
  {
   "cell_type": "code",
   "execution_count": 3,
   "metadata": {},
   "outputs": [
    {
     "data": {
      "text/plain": [
       "'Python program'"
      ]
     },
     "execution_count": 3,
     "metadata": {},
     "output_type": "execute_result"
    }
   ],
   "source": [
    "s=\"python proGRAM\"\n",
    "s.capitalize()"
   ]
  },
  {
   "cell_type": "code",
   "execution_count": 4,
   "metadata": {},
   "outputs": [
    {
     "data": {
      "text/plain": [
       "'1python program'"
      ]
     },
     "execution_count": 4,
     "metadata": {},
     "output_type": "execute_result"
    }
   ],
   "source": [
    "s=\"1python proGRAM\"\n",
    "s.capitalize()"
   ]
  },
  {
   "cell_type": "code",
   "execution_count": 5,
   "metadata": {},
   "outputs": [
    {
     "data": {
      "text/plain": [
       "'$python program'"
      ]
     },
     "execution_count": 5,
     "metadata": {},
     "output_type": "execute_result"
    }
   ],
   "source": [
    "s=\"$python proGRAM\"\n",
    "s.capitalize()"
   ]
  },
  {
   "cell_type": "code",
   "execution_count": 6,
   "metadata": {},
   "outputs": [
    {
     "name": "stdout",
     "output_type": "stream",
     "text": [
      "$python program\n",
      "$Python Program\n",
      "$python program\n",
      "$PYTHON PROGRAM\n",
      "$python program\n",
      "$PYTHON PROgram\n"
     ]
    }
   ],
   "source": [
    "s=\"$python proGRAM\"\n",
    "print(s.capitalize())\n",
    "print(s.title())\n",
    "print(s.lower())\n",
    "print(s.upper())\n",
    "print(s.casefold())\n",
    "print(s.swapcase())\n"
   ]
  },
  {
   "cell_type": "code",
   "execution_count": 7,
   "metadata": {},
   "outputs": [
    {
     "name": "stdout",
     "output_type": "stream",
     "text": [
      "App$le oran2ge\n",
      "App$Le Oran2Ge\n",
      "app$le oran2ge\n",
      "APP$LE ORAN2GE\n",
      "app$le oran2ge\n",
      "APP$LE ORAN2GE\n"
     ]
    }
   ],
   "source": [
    "s=\"app$le oran2ge\"\n",
    "print(s.capitalize())\n",
    "print(s.title())\n",
    "print(s.lower())\n",
    "print(s.upper())\n",
    "print(s.casefold())\n",
    "print(s.swapcase())\n"
   ]
  },
  {
   "cell_type": "code",
   "execution_count": 8,
   "metadata": {},
   "outputs": [
    {
     "name": "stdout",
     "output_type": "stream",
     "text": [
      "app$le oran2ge\n",
      "app$le oran2ge\n"
     ]
    }
   ],
   "source": [
    "s=\"app$le oran2ge\"\n",
    "print(s.lower())\n",
    "print(s.casefold())"
   ]
  },
  {
   "cell_type": "code",
   "execution_count": 9,
   "metadata": {},
   "outputs": [
    {
     "data": {
      "text/plain": [
       "True"
      ]
     },
     "execution_count": 9,
     "metadata": {},
     "output_type": "execute_result"
    }
   ],
   "source": [
    "\"apple\" == \"apple\""
   ]
  },
  {
   "cell_type": "code",
   "execution_count": 10,
   "metadata": {},
   "outputs": [
    {
     "data": {
      "text/plain": [
       "False"
      ]
     },
     "execution_count": 10,
     "metadata": {},
     "output_type": "execute_result"
    }
   ],
   "source": [
    "\"Apple\" == \"apple\""
   ]
  },
  {
   "cell_type": "code",
   "execution_count": 11,
   "metadata": {},
   "outputs": [
    {
     "name": "stdout",
     "output_type": "stream",
     "text": [
      "True\n",
      "True\n"
     ]
    }
   ],
   "source": [
    "print(\"Apple\".upper() == \"apple\".upper())\n",
    "print(\"Apple\".lower() == \"apple\".lower())"
   ]
  },
  {
   "cell_type": "code",
   "execution_count": 12,
   "metadata": {},
   "outputs": [
    {
     "name": "stdout",
     "output_type": "stream",
     "text": [
      "True\n"
     ]
    }
   ],
   "source": [
    "print(\"Apple\".casefold() == \"apple\".casefold())"
   ]
  },
  {
   "cell_type": "code",
   "execution_count": 13,
   "metadata": {},
   "outputs": [
    {
     "data": {
      "text/plain": [
       "True"
      ]
     },
     "execution_count": 13,
     "metadata": {},
     "output_type": "execute_result"
    }
   ],
   "source": [
    "s1=\"మీరు ఎలా ఉన్నారు\"\n",
    "s2=\"మీరు ఎలా ఉన్నారు\"\n",
    "s1==s2"
   ]
  },
  {
   "cell_type": "code",
   "execution_count": 14,
   "metadata": {},
   "outputs": [
    {
     "name": "stdout",
     "output_type": "stream",
     "text": [
      "మీరు ఎలా ఉన్నారు\n",
      "మీరు ఎలా ఉన్నారు\n",
      "మీరు ఎలా ఉన్నారు\n",
      "మీరు ఎలా ఉన్నారు\n",
      "మీరు ఎలా ఉన్నారు\n",
      "మీరు ఎలా ఉన్నారు\n"
     ]
    }
   ],
   "source": [
    "s=\"మీరు ఎలా ఉన్నారు\"\n",
    "print(s.capitalize())\n",
    "print(s.title())\n",
    "print(s.lower())\n",
    "print(s.upper())\n",
    "print(s.casefold())\n",
    "print(s.swapcase())\n"
   ]
  },
  {
   "cell_type": "code",
   "execution_count": 15,
   "metadata": {},
   "outputs": [
    {
     "name": "stdout",
     "output_type": "stream",
     "text": [
      "                                          మీరు ఎలా ఉన్నారు                                          \n",
      "మీరు ఎలా ఉన్నారు                                                                                    \n",
      "                                                                                    మీరు ఎలా ఉన్నారు\n"
     ]
    }
   ],
   "source": [
    "s=\"మీరు ఎలా ఉన్నారు\"\n",
    "print(s.center(100))\n",
    "print(s.ljust(100))\n",
    "print(s.rjust(100))"
   ]
  },
  {
   "cell_type": "code",
   "execution_count": 16,
   "metadata": {},
   "outputs": [
    {
     "name": "stdout",
     "output_type": "stream",
     "text": [
      "   python program   \n",
      "python program      \n",
      "      python program\n"
     ]
    }
   ],
   "source": [
    "s=\"python program\"\n",
    "print(s.center(20))\n",
    "print(s.ljust(20))\n",
    "print(s.rjust(20))"
   ]
  },
  {
   "cell_type": "code",
   "execution_count": 17,
   "metadata": {},
   "outputs": [
    {
     "name": "stdout",
     "output_type": "stream",
     "text": [
      "***python program***\n",
      "python program******\n",
      "******python program\n"
     ]
    }
   ],
   "source": [
    "s=\"python program\"\n",
    "print(s.center(20,'*'))\n",
    "print(s.ljust(20,\"*\"))\n",
    "print(s.rjust(20,\"*\"))"
   ]
  },
  {
   "cell_type": "code",
   "execution_count": 18,
   "metadata": {},
   "outputs": [
    {
     "name": "stdout",
     "output_type": "stream",
     "text": [
      "python program\n",
      "python program\n",
      "python program\n"
     ]
    }
   ],
   "source": [
    "s=\"python program\"\n",
    "print(s.center(2,'*'))\n",
    "print(s.ljust(2,\"*\"))\n",
    "print(s.rjust(2,\"*\"))"
   ]
  },
  {
   "cell_type": "code",
   "execution_count": 19,
   "metadata": {},
   "outputs": [
    {
     "name": "stdout",
     "output_type": "stream",
     "text": [
      "2\n"
     ]
    }
   ],
   "source": [
    "s=\"apple;orange;grape;apple;grape;orange;guwa;mango\"\n",
    "print(s.count(\"apple\"))"
   ]
  },
  {
   "cell_type": "code",
   "execution_count": 20,
   "metadata": {},
   "outputs": [
    {
     "name": "stdout",
     "output_type": "stream",
     "text": [
      "1\n"
     ]
    }
   ],
   "source": [
    "s=\"apple;orange;grape;apple;grape;orange;guwa;mango\"\n",
    "print(s.count(\"mango\"))"
   ]
  },
  {
   "cell_type": "code",
   "execution_count": 21,
   "metadata": {},
   "outputs": [
    {
     "name": "stdout",
     "output_type": "stream",
     "text": [
      "0\n"
     ]
    }
   ],
   "source": [
    "s=\"apple;orange;grape;apple;grape;orange;guwa;mango\"\n",
    "print(s.count(\"pineapple\"))"
   ]
  },
  {
   "cell_type": "code",
   "execution_count": 22,
   "metadata": {},
   "outputs": [
    {
     "name": "stdout",
     "output_type": "stream",
     "text": [
      "0\n"
     ]
    }
   ],
   "source": [
    "s=\"apple;orange;grape;apple;grape;orange;guwa;mango\"\n",
    "print(s.count(\"APPLE\"))"
   ]
  },
  {
   "cell_type": "code",
   "execution_count": 23,
   "metadata": {},
   "outputs": [
    {
     "name": "stdout",
     "output_type": "stream",
     "text": [
      "0\n"
     ]
    }
   ],
   "source": [
    "s=\"apple;orange;grape;apple;grape;orange;guwa;mango\"\n",
    "print(s.count(\"ale\"))"
   ]
  },
  {
   "cell_type": "code",
   "execution_count": 24,
   "metadata": {},
   "outputs": [
    {
     "name": "stdout",
     "output_type": "stream",
     "text": [
      "0\n"
     ]
    }
   ],
   "source": [
    "s=\"apple;orange;grape;apple;grape;orange;guwa;mango\"\n",
    "print(s.count(\" \"))"
   ]
  },
  {
   "cell_type": "code",
   "execution_count": 25,
   "metadata": {},
   "outputs": [
    {
     "name": "stdout",
     "output_type": "stream",
     "text": [
      "49\n"
     ]
    }
   ],
   "source": [
    "s=\"apple;orange;grape;apple;grape;orange;guwa;mango\"\n",
    "print(s.count(\"\"))"
   ]
  },
  {
   "cell_type": "code",
   "execution_count": 26,
   "metadata": {},
   "outputs": [
    {
     "name": "stdout",
     "output_type": "stream",
     "text": [
      "Python Program\n"
     ]
    }
   ],
   "source": [
    "s=\"python program\"\n",
    "print(s.replace(\"p\",\"P\"))"
   ]
  },
  {
   "cell_type": "code",
   "execution_count": 28,
   "metadata": {},
   "outputs": [
    {
     "name": "stdout",
     "output_type": "stream",
     "text": [
      "APPLE;orange;grape;APPLE;grape;APPLE;orange;APPLE;guwa;APPLE;mangoAPPLE;\n"
     ]
    }
   ],
   "source": [
    "s=\"apple;orange;grape;apple;grape;apple;orange;apple;guwa;apple;mangoapple;\"\n",
    "print(s.replace(\"apple\",\"APPLE\"))"
   ]
  },
  {
   "cell_type": "code",
   "execution_count": 29,
   "metadata": {},
   "outputs": [
    {
     "name": "stdout",
     "output_type": "stream",
     "text": [
      "APPLE;orange;grape;APPLE;grape;apple;orange;apple;guwa;apple;mangoapple;\n"
     ]
    }
   ],
   "source": [
    "s=\"apple;orange;grape;apple;grape;apple;orange;apple;guwa;apple;mangoapple;\"\n",
    "print(s.replace(\"apple\",\"APPLE\",2))"
   ]
  },
  {
   "cell_type": "code",
   "execution_count": 30,
   "metadata": {},
   "outputs": [
    {
     "name": "stdout",
     "output_type": "stream",
     "text": [
      "APPLE;orange;grape;APPLE;grape;APPLE;orange;APPLE;guwa;APPLE;mangoAPPLE;\n"
     ]
    }
   ],
   "source": [
    "s=\"apple;orange;grape;apple;grape;apple;orange;apple;guwa;apple;mangoapple;\"\n",
    "print(s.replace(\"apple\",\"APPLE\",-2))"
   ]
  },
  {
   "cell_type": "code",
   "execution_count": 31,
   "metadata": {},
   "outputs": [
    {
     "name": "stdout",
     "output_type": "stream",
     "text": [
      "apple;orange;grape;apple;grape;apple;orange;apple;guwa;apple;mangoapple;\n"
     ]
    }
   ],
   "source": [
    "s=\"apple;orange;grape;apple;grape;apple;orange;apple;guwa;apple;mangoapple;\"\n",
    "print(s.replace(\" \",\"APPLE\"))"
   ]
  },
  {
   "cell_type": "code",
   "execution_count": 32,
   "metadata": {},
   "outputs": [
    {
     "name": "stdout",
     "output_type": "stream",
     "text": [
      "AaApApAlAeA;AoArAaAnAgAeA;AgArAaApAeA;AaApApAlAeA;AgArAaApAeA;AaApApAlAeA;AoArAaAnAgAeA;AaApApAlAeA;AgAuAwAaA;AaApApAlAeA;AmAaAnAgAoAaApApAlAeA;A\n"
     ]
    }
   ],
   "source": [
    "s=\"apple;orange;grape;apple;grape;apple;orange;apple;guwa;apple;mangoapple;\"\n",
    "print(s.replace(\"\",\"A\"))"
   ]
  },
  {
   "cell_type": "code",
   "execution_count": 33,
   "metadata": {},
   "outputs": [
    {
     "name": "stdout",
     "output_type": "stream",
     "text": [
      "enter source sub string:appl\n",
      "enter deswtination sub string:APPL\n",
      "APPLe;orange;grape;APPLe;grape;APPLe;orange;APPLe;guwa;APPLe;mangoAPPLe;\n"
     ]
    }
   ],
   "source": [
    "s=\"apple;orange;grape;apple;grape;apple;orange;apple;guwa;apple;mangoapple;\"\n",
    "source = input(\"enter source sub string:\")\n",
    "destination = input(\"enter deswtination sub string:\")\n",
    "print(s.replace(source,destination))"
   ]
  },
  {
   "cell_type": "code",
   "execution_count": 34,
   "metadata": {},
   "outputs": [
    {
     "name": "stdout",
     "output_type": "stream",
     "text": [
      "enter source sub string:apple\n",
      "enter deswtination sub string:\n",
      ";orange;grape;;grape;;orange;;guwa;;mango;\n"
     ]
    }
   ],
   "source": [
    "s=\"apple;orange;grape;apple;grape;apple;orange;apple;guwa;apple;mangoapple;\"\n",
    "source = input(\"enter source sub string:\")\n",
    "destination = input(\"enter deswtination sub string:\")\n",
    "print(s.replace(source,destination))"
   ]
  },
  {
   "cell_type": "code",
   "execution_count": 35,
   "metadata": {},
   "outputs": [
    {
     "name": "stdout",
     "output_type": "stream",
     "text": [
      "enter source sub string:\n",
      "enter deswtination sub string:A\n",
      "AaApApAlAeA;AoArAaAnAgAeA;AgArAaApAeA;AaApApAlAeA;AgArAaApAeA;AaApApAlAeA;AoArAaAnAgAeA;AaApApAlAeA;AgAuAwAaA;AaApApAlAeA;AmAaAnAgAoAaApApAlAeA;A\n"
     ]
    }
   ],
   "source": [
    "s=\"apple;orange;grape;apple;grape;apple;orange;apple;guwa;apple;mangoapple;\"\n",
    "source = input(\"enter source sub string:\")\n",
    "destination = input(\"enter deswtination sub string:\")\n",
    "print(s.replace(source,destination))"
   ]
  },
  {
   "cell_type": "code",
   "execution_count": 37,
   "metadata": {},
   "outputs": [
    {
     "name": "stdout",
     "output_type": "stream",
     "text": [
      "enter source sub string:apple\n",
      "enter deswtination sub string:APPLE\n",
      "APPLE;orange;grape;APPLE;grape;APPLE;orange;APPLE;guwa;APPLE;mangoAPPLE;\n"
     ]
    }
   ],
   "source": [
    "s=\"apple;orange;grape;apple;grape;apple;orange;apple;guwa;apple;mangoapple;\"\n",
    "source = input(\"enter source sub string:\")\n",
    "destination = input(\"enter deswtination sub string:\")\n",
    "if source:\n",
    "    print(s.replace(source,destination))\n",
    "else:\n",
    "    print(s)"
   ]
  },
  {
   "cell_type": "code",
   "execution_count": 38,
   "metadata": {},
   "outputs": [
    {
     "name": "stdout",
     "output_type": "stream",
     "text": [
      "enter source sub string:\n",
      "enter deswtination sub string:A\n",
      "apple;orange;grape;apple;grape;apple;orange;apple;guwa;apple;mangoapple;\n"
     ]
    }
   ],
   "source": [
    "s=\"apple;orange;grape;apple;grape;apple;orange;apple;guwa;apple;mangoapple;\"\n",
    "source = input(\"enter source sub string:\")\n",
    "destination = input(\"enter deswtination sub string:\")\n",
    "if source:\n",
    "    print(s.replace(source,destination))\n",
    "else:\n",
    "    print(s)"
   ]
  },
  {
   "cell_type": "code",
   "execution_count": 39,
   "metadata": {},
   "outputs": [
    {
     "name": "stdout",
     "output_type": "stream",
     "text": [
      "enter source sub string:AppLE\n",
      "enter deswtination sub string:APPLE\n",
      "apple;orange;grape;apple;grape;apple;orange;apple;guwa;apple;mangoapple;\n"
     ]
    }
   ],
   "source": [
    "s=\"apple;orange;grape;apple;grape;apple;orange;apple;guwa;apple;mangoapple;\"\n",
    "source = input(\"enter source sub string:\")\n",
    "destination = input(\"enter deswtination sub string:\")\n",
    "if source:\n",
    "    print(s.replace(source,destination))\n",
    "else:\n",
    "    print(s)"
   ]
  },
  {
   "cell_type": "code",
   "execution_count": 40,
   "metadata": {},
   "outputs": [
    {
     "name": "stdout",
     "output_type": "stream",
     "text": [
      "enter source sub string:APPle\n",
      "enter deswtination sub string:APPLE\n",
      "APPLE;orange;grape;APPLE;grape;APPLE;orange;APPLE;guwa;APPLE;mangoAPPLE;\n"
     ]
    }
   ],
   "source": [
    "s=\"apple;orange;grape;apple;grape;apple;orange;apple;guwa;apple;mangoapple;\"\n",
    "source = input(\"enter source sub string:\")\n",
    "destination = input(\"enter deswtination sub string:\")\n",
    "if source:\n",
    "    source = source.casefold()\n",
    "    s=s.casefold()\n",
    "    print(s.replace(source,destination))\n",
    "else:\n",
    "    print(s)"
   ]
  },
  {
   "cell_type": "code",
   "execution_count": 43,
   "metadata": {},
   "outputs": [
    {
     "name": "stdout",
     "output_type": "stream",
     "text": [
      "0.0\n"
     ]
    }
   ],
   "source": [
    "x1=1\n",
    "x2=2\n",
    "x3=3\n",
    "x4=4\n",
    "mean = (x1+x2+x3+x4)/4\n",
    "res = (x1-mean)+(x2-mean)+(x3-mean)+(x4-mean)\n",
    "print(res)"
   ]
  },
  {
   "cell_type": "code",
   "execution_count": null,
   "metadata": {},
   "outputs": [],
   "source": []
  }
 ],
 "metadata": {
  "kernelspec": {
   "display_name": "Python 3",
   "language": "python",
   "name": "python3"
  },
  "language_info": {
   "codemirror_mode": {
    "name": "ipython",
    "version": 3
   },
   "file_extension": ".py",
   "mimetype": "text/x-python",
   "name": "python",
   "nbconvert_exporter": "python",
   "pygments_lexer": "ipython3",
   "version": "3.7.3"
  }
 },
 "nbformat": 4,
 "nbformat_minor": 2
}
